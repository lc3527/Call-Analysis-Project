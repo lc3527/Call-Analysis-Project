{
 "cells": [
  {
   "cell_type": "code",
   "execution_count": 1,
   "metadata": {},
   "outputs": [],
   "source": [
    "import csv"
   ]
  },
  {
   "cell_type": "markdown",
   "metadata": {},
   "source": [
    "### The size of data is too large, so use yield to create a generator"
   ]
  },
  {
   "cell_type": "code",
   "execution_count": 29,
   "metadata": {},
   "outputs": [],
   "source": [
    "def readCSV(path):\n",
    "    with open(path, 'rt',errors=\"ignore\",encoding='utf-8') as f:\n",
    "        c = csv.reader(f)\n",
    "        header = next(c)\n",
    "        for l in c:\n",
    "            d = dict(zip(header,l))\n",
    "            yield d"
   ]
  },
  {
   "cell_type": "markdown",
   "metadata": {},
   "source": [
    "### Show a piece of data"
   ]
  },
  {
   "cell_type": "code",
   "execution_count": 30,
   "metadata": {},
   "outputs": [
    {
     "data": {
      "text/plain": [
       "{'Unique Key': '45285347',\n",
       " 'Created Date': '01/01/2020 12:00:00 AM',\n",
       " 'Closed Date': '01/10/2020 12:00:01 AM',\n",
       " 'Agency': 'DOHMH',\n",
       " 'Agency Name': 'Department of Health and Mental Hygiene',\n",
       " 'Complaint Type': 'Food Poisoning',\n",
       " 'Descriptor': '3 or More',\n",
       " 'Location Type': 'Restaurant/Bar/Deli/Bakery',\n",
       " 'Incident Zip': '11229',\n",
       " 'Incident Address': '3442 NOSTRAND AVENUE',\n",
       " 'Street Name': 'NOSTRAND AVENUE',\n",
       " 'Cross Street 1': 'GRAVESEND NECK ROAD',\n",
       " 'Cross Street 2': 'AVENUE V',\n",
       " 'Intersection Street 1': 'GRAVESEND NECK ROAD',\n",
       " 'Intersection Street 2': 'AVENUE V',\n",
       " 'Address Type': 'ADDRESS',\n",
       " 'City': 'BROOKLYN',\n",
       " 'Landmark': 'NOSTRAND AVENUE',\n",
       " 'Facility Type': '',\n",
       " 'Status': 'Closed',\n",
       " 'Due Date': '',\n",
       " 'Resolution Description': 'The Health Departmentâ\\x80\\x99s Office of Environmental Investigations has determined this case was an isolated incident. The Departmentâ\\x80\\x99s Bureau of Food Safety and Community Sanitation will review to see if a sanitary inspection is necessary. All food establishments are inspected annually. You can get results of all food safety inspections by going online to www.nyc.gov/health/restaurants.',\n",
       " 'Resolution Action Updated Date': '01/10/2020 04:38:17 PM',\n",
       " 'Community Board': '15 BROOKLYN',\n",
       " 'BBL': '3073620008',\n",
       " 'Borough': 'BROOKLYN',\n",
       " 'X Coordinate (State Plane)': '1000400',\n",
       " 'Y Coordinate (State Plane)': '157925',\n",
       " 'Open Data Channel Type': 'ONLINE',\n",
       " 'Park Facility Name': 'Unspecified',\n",
       " 'Park Borough': 'BROOKLYN',\n",
       " 'Vehicle Type': '',\n",
       " 'Taxi Company Borough': '',\n",
       " 'Taxi Pick Up Location': '',\n",
       " 'Bridge Highway Name': '',\n",
       " 'Bridge Highway Direction': '',\n",
       " 'Road Ramp': '',\n",
       " 'Bridge Highway Segment': '',\n",
       " 'Latitude': '40.6001292057807',\n",
       " 'Longitude': '-73.94184291675883',\n",
       " 'Location': '(40.6001292057807, -73.94184291675883)'}"
      ]
     },
     "execution_count": 30,
     "metadata": {},
     "output_type": "execute_result"
    }
   ],
   "source": [
    "path = \"311_Service_Requests_2020.csv\"\n",
    "f = readCSV(path)\n",
    "next(f)"
   ]
  },
  {
   "cell_type": "markdown",
   "metadata": {},
   "source": [
    "### We only need 'Incident Zip' and 'Complaint Type'"
   ]
  },
  {
   "cell_type": "code",
   "execution_count": 18,
   "metadata": {},
   "outputs": [],
   "source": [
    "# The size of data is too large, so use yield to create a generator\n",
    "def readCSV(path):\n",
    "    with open(path, 'rt',errors=\"ignore\",encoding='utf-8') as f:\n",
    "        c = csv.reader(f)\n",
    "        header = next(c)\n",
    "        for l in c:\n",
    "            d = dict(zip(header,l))\n",
    "            yield d['Incident Zip'],d['Complaint Type']"
   ]
  },
  {
   "cell_type": "code",
   "execution_count": 19,
   "metadata": {},
   "outputs": [
    {
     "data": {
      "text/plain": [
       "('11229', 'Food Poisoning')"
      ]
     },
     "execution_count": 19,
     "metadata": {},
     "output_type": "execute_result"
    }
   ],
   "source": [
    "# Show a piece of data\n",
    "path = \"311_Service_Requests_2020.csv\"\n",
    "f = readCSV(path)\n",
    "next(f)"
   ]
  },
  {
   "cell_type": "code",
   "execution_count": 22,
   "metadata": {},
   "outputs": [],
   "source": [
    "zip_code = '10019'\n",
    "complaint_type = 'Illegal Parking'"
   ]
  },
  {
   "cell_type": "code",
   "execution_count": 23,
   "metadata": {},
   "outputs": [],
   "source": [
    "count_all = 0\n",
    "count_zip = 0\n",
    "illegal_parking_all = 0\n",
    "illegal_parking_zip = 0"
   ]
  },
  {
   "cell_type": "markdown",
   "metadata": {},
   "source": [
    "### Iterate over the entire data\n",
    "#### count_all counts the total number of all incidents\n",
    "#### count_zip counts the number of all incidents in ZIP\n",
    "#### illegal_parking_all counts the total number of illegal parking incidents\n",
    "#### illegal_parking_all counts the number of illegal parking incidents in ZIP"
   ]
  },
  {
   "cell_type": "code",
   "execution_count": 24,
   "metadata": {},
   "outputs": [],
   "source": [
    "f = readCSV(path)\n",
    "for z,c in f:\n",
    "    count_all += 1\n",
    "    if z == zip_code:\n",
    "        count_zip += 1\n",
    "    if c == complaint_type:\n",
    "        illegal_parking_all += 1\n",
    "        if z == zip_code:\n",
    "            illegal_parking_zip += 1"
   ]
  },
  {
   "cell_type": "markdown",
   "metadata": {},
   "source": [
    "### Calculate the proportion of illegal parking incidents"
   ]
  },
  {
   "cell_type": "code",
   "execution_count": 25,
   "metadata": {},
   "outputs": [
    {
     "data": {
      "text/plain": [
       "0.07487334365033108"
      ]
     },
     "execution_count": 25,
     "metadata": {},
     "output_type": "execute_result"
    }
   ],
   "source": [
    "proportion_all = illegal_parking_all/count_all\n",
    "proportion_all"
   ]
  },
  {
   "cell_type": "code",
   "execution_count": 26,
   "metadata": {},
   "outputs": [
    {
     "data": {
      "text/plain": [
       "0.0656794998354722"
      ]
     },
     "execution_count": 26,
     "metadata": {},
     "output_type": "execute_result"
    }
   ],
   "source": [
    "proportion_zip = illegal_parking_zip/count_zip\n",
    "proportion_zip"
   ]
  },
  {
   "cell_type": "markdown",
   "metadata": {},
   "source": [
    "### get higher_parking_proportion"
   ]
  },
  {
   "cell_type": "code",
   "execution_count": 28,
   "metadata": {},
   "outputs": [
    {
     "data": {
      "text/plain": [
       "False"
      ]
     },
     "execution_count": 28,
     "metadata": {},
     "output_type": "execute_result"
    }
   ],
   "source": [
    "higher_parking_proportion = proportion_zip > proportion_all\n",
    "higher_parking_proportion"
   ]
  }
 ],
 "metadata": {
  "kernelspec": {
   "display_name": "Python 3",
   "language": "python",
   "name": "python3"
  },
  "language_info": {
   "codemirror_mode": {
    "name": "ipython",
    "version": 3
   },
   "file_extension": ".py",
   "mimetype": "text/x-python",
   "name": "python",
   "nbconvert_exporter": "python",
   "pygments_lexer": "ipython3",
   "version": "3.7.6"
  }
 },
 "nbformat": 4,
 "nbformat_minor": 4
}
